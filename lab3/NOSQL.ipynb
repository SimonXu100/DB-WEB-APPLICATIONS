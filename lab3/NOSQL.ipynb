{
 "cells": [
  {
   "cell_type": "markdown",
   "metadata": {},
   "source": [
    "<p style=\"font-size:30px; text-align:center; line-height:120%\">\n",
    "<br>\n",
    "COMS W 4111-02, H02, V02<br>\n",
    "Homework 4\n",
    "</p>"
   ]
  },
  {
   "cell_type": "markdown",
   "metadata": {},
   "source": [
    "# Introduction\n",
    "\n",
    "- This homework has two learning objectives:\n",
    "    - Learning basic concepts for using a graph database to model core information (sample movie information database) and augment with social information (Person, Fan, Follows, Likes, ...)\n",
    "    - Learn the basic concepts behind Redis by implementing a simple version of one of the most common Redis solution usages -- [result caching.](https://redislabs.com/blog/query-caching-redis/)\n",
    "    \n",
    "    \n",
    "- Being able to discuss working on these objectives and having implemented some functions is a cool topics to discuss on job and internship interviews, and looks cool on your resume.\n",
    "    \n",
    "    \n",
    "- The notebook contains a section on setting up software. The section is a subset of the setup for the final exam. Completing the assignment decreases the chance of your having setup problems while working on the final exam.\n",
    "\n",
    "\n",
    "- The assignment seems to require significant programming when you first review it. This is not the case. Most of what you have to implement is a set of DB operations/calls to Neo4j and Redis. The helper code in section 2 provides almost ll of the code you need to execute the queries. "
   ]
  },
  {
   "cell_type": "markdown",
   "metadata": {},
   "source": [
    "# Setup\n",
    "\n",
    "- In previous semesters, I required students to install Redis and Neo4j software, including server SW on their laptops.\n",
    "    - Understanding how to install, configure and use SW is a valuable skill in fields that use computers in an advanced way: CS, data science, IEOR analysis, etc.\n",
    "    - SW installation is tedious and causes annoying issues for some students. \n",
    "    - For this assignment, you do not need to install the Redis or Neo4j products. You can use free evaluation versions available via [Platform-as-a-Service (PaaS)](https://en.wikipedia.org/wiki/Platform_as_a_service).\n",
    "    - The PaaS approach significantly decreases the time and complexity for installation and setup.\n",
    "    - Saying you have used PaaS DBs also sounds cool on CVs and in interviews.\n",
    "    \n",
    "    \n",
    "- Setting Up the Environment\n",
    "    - You will need to use Neo4j and Redis to complete this homework assignment.\n",
    "    - Neo4j\n",
    "        - Please follow the instructions in the previous [recorded makeup lecture](https://cvn.hosted.panopto.com/Panopto/Pages/Viewer.aspx?id=169786d3-c838-4f2c-ada6-ab1800d0e654) for setting up a cloud version of Neo4j.\n",
    "        - You must have installed the sample movie database. The recorded lecture has instructions.\n",
    "        - You must install the [Neo4j REST Client](https://docs.graphenedb.com/docs/python#section-neo4j-rest-client). The easiest way to do this is:\n",
    "            - Go to the ```File``` menu option in the Notebook and select ```Open.``` This will open a new file explorer.\n",
    "            - On the upper right hand corner, click on ```New``` and choose terminal. This will open a terminal window.\n",
    "            - In the terminal window, enter ```pip install neo4jrestclient```\n",
    "    - Redis:\n",
    "        - Please follow the instructions in the [recorded makeup lecture](https://cvn.hosted.panopto.com/Panopto/Pages/Viewer.aspx?id=169786d3-c838-4f2c-ada6-ab1800d0e654) for setting up a cloud version of Redis.\n",
    "        - You do not need to install or configure any data.\n",
    "        - The Anaconda environment comes with a Redis client.\n",
    "        \n",
    "        \n",
    "- Section 2 tests your setup."
   ]
  },
  {
   "cell_type": "markdown",
   "metadata": {},
   "source": [
    "# Environment Test"
   ]
  },
  {
   "cell_type": "code",
   "execution_count": 1,
   "metadata": {},
   "outputs": [],
   "source": [
    "# Import some useful packages. Both are an integral part of Conda/Ananconda.\n",
    "import json\n",
    "import pandas"
   ]
  },
  {
   "cell_type": "markdown",
   "metadata": {},
   "source": [
    "## Neo4j"
   ]
  },
  {
   "cell_type": "markdown",
   "metadata": {},
   "source": [
    "### Concept\n",
    "\n",
    "- Neo4j is a graph database.\n",
    "\n",
    "\n",
    "- Many databases, including the relational model, have limited support for complex, dynamic relationships between entities. The limitations are both functional and performance.\n",
    "\n",
    "\n",
    "- Relationships are a first class concept in graph databases.\n",
    "    - This data manipulation language directly supports graph concepts, e.g. paths.\n",
    "    - Graph DBs internal implementation (indexes, memory storage, etc) focuses on supporting graphs. This enables DBs like Neo4j to traverse relationships orders-of-magnitude faster than other models.\n",
    "    \n",
    "    \n",
    "- Very simply, a graph database is a database designed to treat the relationships between data as equally important to the data itself."
   ]
  },
  {
   "cell_type": "markdown",
   "metadata": {},
   "source": [
    "### Setup"
   ]
  },
  {
   "cell_type": "code",
   "execution_count": 2,
   "metadata": {},
   "outputs": [],
   "source": [
    "# Import the client side connection package for Neo4j.\n",
    "# There are many client side packages for Neo4j, which is also\n",
    "# true for MySQL and most databases. We are importing one of the\n",
    "# simpler client connection packages.\n",
    "# https://neo4j-rest-client.readthedocs.io/en/latest/info.html\n",
    "import neo4jrestclient\n",
    "from neo4jrestclient.client import GraphDatabase\n",
    "from neo4jrestclient import client"
   ]
  },
  {
   "cell_type": "code",
   "execution_count": 3,
   "metadata": {},
   "outputs": [],
   "source": [
    "# We are using HTTPS because the API calls are going over a public network.\n",
    "# HTTPS requires setting up and configuring certificates, which can be \n",
    "# difficult and confusing. Since we are not configuring certificates,\n",
    "# the neo4jrestclient code issues warning messages, and these become\n",
    "# distracting. The code below supresses the warnings.\n",
    "#\n",
    "# DO NOT EVER DO THIS IN A REAL SOLUTION.\n",
    "import urllib3\n",
    "urllib3.disable_warnings(urllib3.exceptions.InsecureRequestWarning)\n",
    "neo4jrestclient.options.VERIFY_SSL = False \n",
    "\n",
    "\n",
    "# The code below is the Neo4j REST Client equivalent to the connection\n",
    "# setup we have done for MySQL.\n",
    "#\n",
    "# YOU MUST USE THE URL, USER ID AND PASSWORD THAT YOU SET UP WHEN\n",
    "# CONFIGURING YOUR PAAS VERSION OF NEO4J. WE WILL CHANGE THIS INFO\n",
    "# WHEN TESTING YOUR HOMEWORK.\n",
    "neo4j_host = \"https://hobby-hbnkdnhaiekcgbkecbcldedl.dbs.graphenedb.com:24780/db/data/\"\n",
    "neo4j_user = \"dbuser\"\n",
    "neo4j_password = \"b.PH6kzFlTr4i5.0Cw9m8mJexg1c6ba\"\n",
    "\n",
    "# gdb is a global variable in the notebook code. The object plays the same\n",
    "# role as the connection object we have used in MySQL. Unlike the MySQL connection,\n",
    "# the connection does have graph oriented operations. By and large, however, we\n",
    "# simple use the query() method in this homework.\n",
    "gdb = GraphDatabase(neo4j_host, username = neo4j_user, password = neo4j_password)\n"
   ]
  },
  {
   "cell_type": "code",
   "execution_count": 4,
   "metadata": {},
   "outputs": [],
   "source": [
    "# The data that comes back from a REST query to Neo4j looks weird if you\n",
    "# are not expert in graphs and REST. This is a helper method that extracts\n",
    "# the application data from a raw REST response.\n",
    "#\n",
    "# Do not worry about the details.\n",
    "#\n",
    "def get_stuff(d):\n",
    "    result = {}\n",
    "    result['id'] = d['metadata']['id']\n",
    "    result['labels'] = d['metadata'].get('labels', None)\n",
    "    result['properties'] = d['data']\n",
    "    return result"
   ]
  },
  {
   "cell_type": "markdown",
   "metadata": {},
   "source": [
    "__Testing Getting Tom Hanks__"
   ]
  },
  {
   "cell_type": "markdown",
   "metadata": {},
   "source": [
    "Match all nodes where the name on that node is tom hanks and return all of the properties of that node"
   ]
  },
  {
   "cell_type": "code",
   "execution_count": 5,
   "metadata": {},
   "outputs": [
    {
     "name": "stdout",
     "output_type": "stream",
     "text": [
      "The following records matched the query\n",
      "Node =  {\n",
      "  \"id\": 59,\n",
      "  \"labels\": [\n",
      "    \"Person\"\n",
      "  ],\n",
      "  \"properties\": {\n",
      "    \"born\": 1956,\n",
      "    \"name\": \"Tom Hanks\"\n",
      "  }\n",
      "}\n"
     ]
    }
   ],
   "source": [
    "# Submit the query.\n",
    "result = gdb.query(\"MATCH (n:Person) where n.name='Tom Hanks' return n\")\n",
    "\n",
    "# This is similar to having to interate the the list of rows returned\n",
    "# by a MySQL query through a connection. The structure of the returned\n",
    "# data is more complex.\n",
    "\n",
    "print(\"The following records matched the query\")\n",
    "for record in result:\n",
    "    n = get_stuff(record[0])\n",
    "    print(\"Node = \", json.dumps(n, indent=2))"
   ]
  },
  {
   "cell_type": "markdown",
   "metadata": {},
   "source": [
    "- Executing the same query in the Neoj console, which is analogous to MySQL Workbench produces:\n",
    "\n",
    "<img src=\"./simple_neo4j_example.png\">\n",
    "\n",
    "\n",
    "- The Neo4j console ran the query under the covers, received the response and displayed the information graphically."
   ]
  },
  {
   "cell_type": "markdown",
   "metadata": {},
   "source": [
    "__Testing a More Complex Thing__"
   ]
  },
  {
   "cell_type": "code",
   "execution_count": 6,
   "metadata": {},
   "outputs": [
    {
     "name": "stdout",
     "output_type": "stream",
     "text": [
      "\tActor =  {\"id\": 59, \"labels\": [\"Person\"], \"properties\": {\"born\": 1956, \"name\": \"Tom Hanks\"}}\n",
      "\tRelationship =  {\"id\": 169, \"labels\": null, \"properties\": {\"roles\": [\"Jimmy Dugan\"]}}\n",
      "\tMovie =  {\"id\": 172, \"labels\": [\"Movie\"], \"properties\": {\"tagline\": \"Once in a lifetime you get a chance to do something different.\", \"title\": \"A League of Their Own\", \"released\": 1992}}\n",
      "\n",
      "\tActor =  {\"id\": 59, \"labels\": [\"Person\"], \"properties\": {\"born\": 1956, \"name\": \"Tom Hanks\"}}\n",
      "\tRelationship =  {\"id\": 167, \"labels\": null, \"properties\": {\"roles\": [\"Hero Boy\", \"Father\", \"Conductor\", \"Hobo\", \"Scrooge\", \"Santa Claus\"]}}\n",
      "\tMovie =  {\"id\": 171, \"labels\": [\"Movie\"], \"properties\": {\"tagline\": \"This Holiday Season\\u2026 Believe\", \"title\": \"The Polar Express\", \"released\": 2004}}\n",
      "\n",
      "\tActor =  {\"id\": 59, \"labels\": [\"Person\"], \"properties\": {\"born\": 1956, \"name\": \"Tom Hanks\"}}\n",
      "\tRelationship =  {\"id\": 137, \"labels\": null, \"properties\": {\"roles\": [\"Jim Lovell\"]}}\n",
      "\tMovie =  {\"id\": 154, \"labels\": [\"Movie\"], \"properties\": {\"tagline\": \"Houston, we have a problem.\", \"title\": \"Apollo 13\", \"released\": 1995}}\n",
      "\n",
      "\tActor =  {\"id\": 59, \"labels\": [\"Person\"], \"properties\": {\"born\": 1956, \"name\": \"Tom Hanks\"}}\n",
      "\tRelationship =  {\"id\": 510, \"labels\": null, \"properties\": {\"roles\": [\"Sam Baldwin\"]}}\n",
      "\tMovie =  {\"id\": 61, \"labels\": [\"Movie\"], \"properties\": {\"tagline\": \"What if someone you never met, someone you never saw, someone you never knew was the only someone for you?\", \"title\": \"Sleepless in Seattle\", \"released\": 1993}}\n",
      "\n",
      "\tActor =  {\"id\": 59, \"labels\": [\"Person\"], \"properties\": {\"born\": 1956, \"name\": \"Tom Hanks\"}}\n",
      "\tRelationship =  {\"id\": 59, \"labels\": null, \"properties\": {\"roles\": [\"Zachry\", \"Dr. Henry Goose\", \"Isaac Sachs\", \"Dermot Hoggins\"]}}\n",
      "\tMovie =  {\"id\": 93, \"labels\": [\"Movie\"], \"properties\": {\"tagline\": \"Everything is connected\", \"title\": \"Cloud Atlas\", \"released\": 2012}}\n",
      "\n",
      "\tActor =  {\"id\": 59, \"labels\": [\"Person\"], \"properties\": {\"born\": 1956, \"name\": \"Tom Hanks\"}}\n",
      "\tRelationship =  {\"id\": 502, \"labels\": null, \"properties\": {\"roles\": [\"Joe Fox\"]}}\n",
      "\tMovie =  {\"id\": 55, \"labels\": [\"Movie\"], \"properties\": {\"tagline\": \"At odds in life... in love on-line.\", \"title\": \"You've Got Mail\", \"released\": 1998}}\n",
      "\n",
      "\tActor =  {\"id\": 59, \"labels\": [\"Person\"], \"properties\": {\"born\": 1956, \"name\": \"Tom Hanks\"}}\n",
      "\tRelationship =  {\"id\": 163, \"labels\": null, \"properties\": {\"roles\": [\"Rep. Charlie Wilson\"]}}\n",
      "\tMovie =  {\"id\": 169, \"labels\": [\"Movie\"], \"properties\": {\"tagline\": \"A stiff drink. A little mascara. A lot of nerve. Who said they couldn't bring down the Soviet empire.\", \"title\": \"Charlie Wilson's War\", \"released\": 2007}}\n",
      "\n",
      "\tActor =  {\"id\": 59, \"labels\": [\"Person\"], \"properties\": {\"born\": 1956, \"name\": \"Tom Hanks\"}}\n",
      "\tRelationship =  {\"id\": 148, \"labels\": null, \"properties\": {\"roles\": [\"Chuck Noland\"]}}\n",
      "\tMovie =  {\"id\": 160, \"labels\": [\"Movie\"], \"properties\": {\"tagline\": \"At the edge of the world, his journey begins.\", \"title\": \"Cast Away\", \"released\": 2000}}\n",
      "\n",
      "\tActor =  {\"id\": 59, \"labels\": [\"Person\"], \"properties\": {\"born\": 1956, \"name\": \"Tom Hanks\"}}\n",
      "\tRelationship =  {\"id\": 81, \"labels\": null, \"properties\": {\"roles\": [\"Dr. Robert Langdon\"]}}\n",
      "\tMovie =  {\"id\": 99, \"labels\": [\"Movie\"], \"properties\": {\"tagline\": \"Break The Codes\", \"title\": \"The Da Vinci Code\", \"released\": 2006}}\n",
      "\n",
      "\tActor =  {\"id\": 59, \"labels\": [\"Person\"], \"properties\": {\"born\": 1956, \"name\": \"Tom Hanks\"}}\n",
      "\tRelationship =  {\"id\": 117, \"labels\": null, \"properties\": {\"roles\": [\"Paul Edgecomb\"]}}\n",
      "\tMovie =  {\"id\": 140, \"labels\": [\"Movie\"], \"properties\": {\"tagline\": \"Walk a mile you'll never forget.\", \"title\": \"The Green Mile\", \"released\": 1999}}\n",
      "\n",
      "\tActor =  {\"id\": 59, \"labels\": [\"Person\"], \"properties\": {\"born\": 1956, \"name\": \"Tom Hanks\"}}\n",
      "\tRelationship =  {\"id\": 16, \"labels\": null, \"properties\": {\"roles\": [\"Mr. White\"]}}\n",
      "\tMovie =  {\"id\": 73, \"labels\": [\"Movie\"], \"properties\": {\"tagline\": \"In every life there comes a time when that thing you dream becomes that thing you do\", \"title\": \"That Thing You Do\", \"released\": 1996}}\n",
      "\n",
      "\tActor =  {\"id\": 59, \"labels\": [\"Person\"], \"properties\": {\"born\": 1956, \"name\": \"Tom Hanks\"}}\n",
      "\tRelationship =  {\"id\": 4, \"labels\": null, \"properties\": {\"roles\": [\"Joe Banks\"]}}\n",
      "\tMovie =  {\"id\": 66, \"labels\": [\"Movie\"], \"properties\": {\"tagline\": \"A story of love, lava and burning desire.\", \"title\": \"Joe Versus the Volcano\", \"released\": 1990}}\n",
      "\n"
     ]
    }
   ],
   "source": [
    "# Run the query\n",
    "result = gdb.query(\"MATCH (n:Person)-[r:ACTED_IN]->(m:Movie) where n.name='Tom Hanks' return n,r,m\")\n",
    "\n",
    "# Go through every \"row\" in the query result.\n",
    "for record in result:\n",
    "    \n",
    "    # The structure of a row in a result in Neo4j is more complex. The return clause listed three things: \n",
    "    # start node, relationship, end node. So, a row in the result looks like:\n",
    "    # [{n stuff}, {r stuff}, {m stuff}]\n",
    "    #\n",
    "    # The code below extracts the application data.\n",
    "    #\n",
    "    actor = get_stuff(record[0])\n",
    "    rel = get_stuff(record[1])\n",
    "    movie = get_stuff(record[2])\n",
    "    print(\"\\tActor = \", json.dumps(actor))\n",
    "    print(\"\\tRelationship = \", json.dumps(rel))\n",
    "    print(\"\\tMovie = \", json.dumps(movie))\n",
    "    print(\"\")"
   ]
  },
  {
   "cell_type": "markdown",
   "metadata": {},
   "source": [
    "- Running the query on the Neo4j console produces.\n",
    "\n",
    "<img src=\"./more_complex_neo4j.png\">"
   ]
  },
  {
   "cell_type": "markdown",
   "metadata": {},
   "source": [
    "- You can choose the display result in ```Table``` option to see a non-graphical view of the result.\n",
    "\n",
    "<img src=\"./table_example.png\">"
   ]
  },
  {
   "cell_type": "markdown",
   "metadata": {},
   "source": [
    "__Testing Some Cooler Stuff__"
   ]
  },
  {
   "cell_type": "code",
   "execution_count": 7,
   "metadata": {},
   "outputs": [
    {
     "data": {
      "text/html": [
       "<div>\n",
       "<style scoped>\n",
       "    .dataframe tbody tr th:only-of-type {\n",
       "        vertical-align: middle;\n",
       "    }\n",
       "\n",
       "    .dataframe tbody tr th {\n",
       "        vertical-align: top;\n",
       "    }\n",
       "\n",
       "    .dataframe thead th {\n",
       "        text-align: right;\n",
       "    }\n",
       "</style>\n",
       "<table border=\"1\" class=\"dataframe\">\n",
       "  <thead>\n",
       "    <tr style=\"text-align: right;\">\n",
       "      <th></th>\n",
       "      <th>Name</th>\n",
       "      <th>Roles</th>\n",
       "      <th>Title</th>\n",
       "      <th>Released</th>\n",
       "    </tr>\n",
       "  </thead>\n",
       "  <tbody>\n",
       "    <tr>\n",
       "      <th>0</th>\n",
       "      <td>Tom Hanks</td>\n",
       "      <td>[Jimmy Dugan]</td>\n",
       "      <td>A League of Their Own</td>\n",
       "      <td>1992</td>\n",
       "    </tr>\n",
       "    <tr>\n",
       "      <th>1</th>\n",
       "      <td>Tom Hanks</td>\n",
       "      <td>[Hero Boy, Father, Conductor, Hobo, Scrooge, S...</td>\n",
       "      <td>The Polar Express</td>\n",
       "      <td>2004</td>\n",
       "    </tr>\n",
       "    <tr>\n",
       "      <th>2</th>\n",
       "      <td>Tom Hanks</td>\n",
       "      <td>[Jim Lovell]</td>\n",
       "      <td>Apollo 13</td>\n",
       "      <td>1995</td>\n",
       "    </tr>\n",
       "    <tr>\n",
       "      <th>3</th>\n",
       "      <td>Tom Hanks</td>\n",
       "      <td>[Sam Baldwin]</td>\n",
       "      <td>Sleepless in Seattle</td>\n",
       "      <td>1993</td>\n",
       "    </tr>\n",
       "    <tr>\n",
       "      <th>4</th>\n",
       "      <td>Tom Hanks</td>\n",
       "      <td>[Zachry, Dr. Henry Goose, Isaac Sachs, Dermot ...</td>\n",
       "      <td>Cloud Atlas</td>\n",
       "      <td>2012</td>\n",
       "    </tr>\n",
       "    <tr>\n",
       "      <th>5</th>\n",
       "      <td>Tom Hanks</td>\n",
       "      <td>[Joe Fox]</td>\n",
       "      <td>You've Got Mail</td>\n",
       "      <td>1998</td>\n",
       "    </tr>\n",
       "    <tr>\n",
       "      <th>6</th>\n",
       "      <td>Tom Hanks</td>\n",
       "      <td>[Rep. Charlie Wilson]</td>\n",
       "      <td>Charlie Wilson's War</td>\n",
       "      <td>2007</td>\n",
       "    </tr>\n",
       "    <tr>\n",
       "      <th>7</th>\n",
       "      <td>Tom Hanks</td>\n",
       "      <td>[Chuck Noland]</td>\n",
       "      <td>Cast Away</td>\n",
       "      <td>2000</td>\n",
       "    </tr>\n",
       "    <tr>\n",
       "      <th>8</th>\n",
       "      <td>Tom Hanks</td>\n",
       "      <td>[Dr. Robert Langdon]</td>\n",
       "      <td>The Da Vinci Code</td>\n",
       "      <td>2006</td>\n",
       "    </tr>\n",
       "    <tr>\n",
       "      <th>9</th>\n",
       "      <td>Tom Hanks</td>\n",
       "      <td>[Paul Edgecomb]</td>\n",
       "      <td>The Green Mile</td>\n",
       "      <td>1999</td>\n",
       "    </tr>\n",
       "    <tr>\n",
       "      <th>10</th>\n",
       "      <td>Tom Hanks</td>\n",
       "      <td>[Mr. White]</td>\n",
       "      <td>That Thing You Do</td>\n",
       "      <td>1996</td>\n",
       "    </tr>\n",
       "    <tr>\n",
       "      <th>11</th>\n",
       "      <td>Tom Hanks</td>\n",
       "      <td>[Joe Banks]</td>\n",
       "      <td>Joe Versus the Volcano</td>\n",
       "      <td>1990</td>\n",
       "    </tr>\n",
       "  </tbody>\n",
       "</table>\n",
       "</div>"
      ],
      "text/plain": [
       "         Name                                              Roles  \\\n",
       "0   Tom Hanks                                      [Jimmy Dugan]   \n",
       "1   Tom Hanks  [Hero Boy, Father, Conductor, Hobo, Scrooge, S...   \n",
       "2   Tom Hanks                                       [Jim Lovell]   \n",
       "3   Tom Hanks                                      [Sam Baldwin]   \n",
       "4   Tom Hanks  [Zachry, Dr. Henry Goose, Isaac Sachs, Dermot ...   \n",
       "5   Tom Hanks                                          [Joe Fox]   \n",
       "6   Tom Hanks                              [Rep. Charlie Wilson]   \n",
       "7   Tom Hanks                                     [Chuck Noland]   \n",
       "8   Tom Hanks                               [Dr. Robert Langdon]   \n",
       "9   Tom Hanks                                    [Paul Edgecomb]   \n",
       "10  Tom Hanks                                        [Mr. White]   \n",
       "11  Tom Hanks                                        [Joe Banks]   \n",
       "\n",
       "                     Title  Released  \n",
       "0    A League of Their Own      1992  \n",
       "1        The Polar Express      2004  \n",
       "2                Apollo 13      1995  \n",
       "3     Sleepless in Seattle      1993  \n",
       "4              Cloud Atlas      2012  \n",
       "5          You've Got Mail      1998  \n",
       "6     Charlie Wilson's War      2007  \n",
       "7                Cast Away      2000  \n",
       "8        The Da Vinci Code      2006  \n",
       "9           The Green Mile      1999  \n",
       "10       That Thing You Do      1996  \n",
       "11  Joe Versus the Volcano      1990  "
      ]
     },
     "execution_count": 7,
     "metadata": {},
     "output_type": "execute_result"
    }
   ],
   "source": [
    "# Neo4j queries can return graph data: nodes, relationships, paths.\n",
    "# You can also request the data in more traditional forms, e.g.\n",
    "# a table of property values from the various nodes and relationships\n",
    "# in the result set. The query below returns properties of the\n",
    "# result objects, not the objects.\n",
    "q =  \"\"\"MATCH (n:Person)-[r:ACTED_IN]->(m:Movie) where n.name='Tom Hanks'\n",
    "        return n.name,r.roles,m.title,m.released\"\"\"\n",
    "result = gdb.query(q)\n",
    "\n",
    "# Since this is a table, we can load into Pandas. Pandas is an incredibly\n",
    "# common and powerful library for manipulating tabular data.\n",
    "# https://pandas.pydata.org/\n",
    "df = pandas.DataFrame(result, columns=[\"Name\", \"Roles\", \"Title\", \"Released\"])    \n",
    "\n",
    "# Display the data.\n",
    "df"
   ]
  },
  {
   "cell_type": "markdown",
   "metadata": {},
   "source": [
    "## Redis\n",
    "\n",
    "- Connect to the PaaS version of Redis that you set up.\n",
    "\n",
    "\n",
    "- You will have to use __USE THE URL, USER ID AND PASSWORD YOU CONFIGURED__ when <br> setting up your pass version of Redis."
   ]
  },
  {
   "cell_type": "code",
   "execution_count": 8,
   "metadata": {},
   "outputs": [],
   "source": [
    "# Import the Redis client package.\n",
    "import redis\n",
    "# Connect to Redis. You can see the \"connections\" are a recurring concept in databases.\n",
    "# USE THE USERID, URL, ETC. YOU CONFIGURED FOR YOUR INSTANCE.\n",
    "rd = redis.Redis(host=\"SG-hw4db-28812.servers.mongodirector.com\", password=\"oo6dBYfpVzySgNbNjRf4rbKX6ot6v6gj\")"
   ]
  },
  {
   "cell_type": "code",
   "execution_count": 9,
   "metadata": {},
   "outputs": [
    {
     "data": {
      "text/plain": [
       "'{\"Name\":{\"0\":\"Tom Hanks\",\"1\":\"Tom Hanks\",\"2\":\"Tom Hanks\",\"3\":\"Tom Hanks\",\"4\":\"Tom Hanks\",\"5\":\"Tom Hanks\",\"6\":\"Tom Hanks\",\"7\":\"Tom Hanks\",\"8\":\"Tom Hanks\",\"9\":\"Tom Hanks\",\"10\":\"Tom Hanks\",\"11\":\"Tom Hanks\"},\"Roles\":{\"0\":[\"Jimmy Dugan\"],\"1\":[\"Hero Boy\",\"Father\",\"Conductor\",\"Hobo\",\"Scrooge\",\"Santa Claus\"],\"2\":[\"Jim Lovell\"],\"3\":[\"Sam Baldwin\"],\"4\":[\"Zachry\",\"Dr. Henry Goose\",\"Isaac Sachs\",\"Dermot Hoggins\"],\"5\":[\"Joe Fox\"],\"6\":[\"Rep. Charlie Wilson\"],\"7\":[\"Chuck Noland\"],\"8\":[\"Dr. Robert Langdon\"],\"9\":[\"Paul Edgecomb\"],\"10\":[\"Mr. White\"],\"11\":[\"Joe Banks\"]},\"Title\":{\"0\":\"A League of Their Own\",\"1\":\"The Polar Express\",\"2\":\"Apollo 13\",\"3\":\"Sleepless in Seattle\",\"4\":\"Cloud Atlas\",\"5\":\"You\\'ve Got Mail\",\"6\":\"Charlie Wilson\\'s War\",\"7\":\"Cast Away\",\"8\":\"The Da Vinci Code\",\"9\":\"The Green Mile\",\"10\":\"That Thing You Do\",\"11\":\"Joe Versus the Volcano\"},\"Released\":{\"0\":1992,\"1\":2004,\"2\":1995,\"3\":1993,\"4\":2012,\"5\":1998,\"6\":2007,\"7\":2000,\"8\":2006,\"9\":1999,\"10\":1996,\"11\":1990}}'"
      ]
     },
     "execution_count": 9,
     "metadata": {},
     "output_type": "execute_result"
    }
   ],
   "source": [
    "df.to_json()"
   ]
  },
  {
   "cell_type": "markdown",
   "metadata": {},
   "source": [
    "- We will store the data in Redis. This requires a key and value.\n",
    "\n",
    "\n",
    "- The value is complex and does not easily map to a core Redis data type. We are using Redis to \"cache\" results and do not need to access the sub-elements of the results. So, we simply store as a JSON string.\n",
    "\n",
    "\n",
    "- We structure the key using a convention to allow us to find information. In this case, the convention is ```Person.name:Relationship.label.```\n",
    "\n",
    "\n",
    "- We are serializing the data. https://docs.microsoft.com/en-us/dotnet/csharp/programming-guide/concepts/serialization/ is an explanation of serialization in C#. The same concepts apply here."
   ]
  },
  {
   "cell_type": "code",
   "execution_count": 10,
   "metadata": {},
   "outputs": [
    {
     "name": "stdout",
     "output_type": "stream",
     "text": [
      "Set result =  True\n"
     ]
    }
   ],
   "source": [
    "# Serialize the data into a string.\n",
    "# \n",
    "data = df.to_json()\n",
    "key = \"Tom Hanks:ACTED_IN\"\n",
    "res = rd.set(key, data)\n",
    "print(\"Set result = \", res)"
   ]
  },
  {
   "cell_type": "markdown",
   "metadata": {},
   "source": [
    "- ```True``` means that our set succeeded.\n",
    "\n",
    "\n",
    "- Let's see if we can get it back. First, let's examine the keys in the database."
   ]
  },
  {
   "cell_type": "code",
   "execution_count": 11,
   "metadata": {},
   "outputs": [
    {
     "name": "stdout",
     "output_type": "stream",
     "text": [
      "Result =\n",
      "\t b'Tom Hanks:ACTED_IN'\n"
     ]
    }
   ],
   "source": [
    "result = rd.keys(\"*\")\n",
    "print(\"Result =\")\n",
    "for r in result:\n",
    "    print(\"\\t\", r)"
   ]
  },
  {
   "cell_type": "markdown",
   "metadata": {},
   "source": [
    "- The ```b``` stuff is the way Python displays the [string encoding.](https://stackoverflow.com/questions/6269765/what-does-the-b-character-do-in-front-of-a-string-literal) There are many encoding tables for strings, as we saw in MySQL."
   ]
  },
  {
   "cell_type": "markdown",
   "metadata": {},
   "source": [
    "- Let's use the key to retrieve our previous answer that we stored."
   ]
  },
  {
   "cell_type": "code",
   "execution_count": 12,
   "metadata": {},
   "outputs": [
    {
     "name": "stdout",
     "output_type": "stream",
     "text": [
      "Raw answer  as the giant string we stored =  b'{\"Name\":{\"0\":\"Tom Hanks\",\"1\":\"Tom Hanks\",\"2\":\"Tom Hanks\",\"3\":\"Tom Hanks\",\"4\":\"Tom Hanks\",\"5\":\"Tom Hanks\",\"6\":\"Tom Hanks\",\"7\":\"Tom Hanks\",\"8\":\"Tom Hanks\",\"9\":\"Tom Hanks\",\"10\":\"Tom Hanks\",\"11\":\"Tom Hanks\"},\"Roles\":{\"0\":[\"Jimmy Dugan\"],\"1\":[\"Hero Boy\",\"Father\",\"Conductor\",\"Hobo\",\"Scrooge\",\"Santa Claus\"],\"2\":[\"Jim Lovell\"],\"3\":[\"Sam Baldwin\"],\"4\":[\"Zachry\",\"Dr. Henry Goose\",\"Isaac Sachs\",\"Dermot Hoggins\"],\"5\":[\"Joe Fox\"],\"6\":[\"Rep. Charlie Wilson\"],\"7\":[\"Chuck Noland\"],\"8\":[\"Dr. Robert Langdon\"],\"9\":[\"Paul Edgecomb\"],\"10\":[\"Mr. White\"],\"11\":[\"Joe Banks\"]},\"Title\":{\"0\":\"A League of Their Own\",\"1\":\"The Polar Express\",\"2\":\"Apollo 13\",\"3\":\"Sleepless in Seattle\",\"4\":\"Cloud Atlas\",\"5\":\"You\\'ve Got Mail\",\"6\":\"Charlie Wilson\\'s War\",\"7\":\"Cast Away\",\"8\":\"The Da Vinci Code\",\"9\":\"The Green Mile\",\"10\":\"That Thing You Do\",\"11\":\"Joe Versus the Volcano\"},\"Released\":{\"0\":1992,\"1\":2004,\"2\":1995,\"3\":1993,\"4\":2012,\"5\":1998,\"6\":2007,\"7\":2000,\"8\":2006,\"9\":1999,\"10\":1996,\"11\":1990}}'\n"
     ]
    }
   ],
   "source": [
    "roles = rd.get(key)\n",
    "print(\"Raw answer  as the giant string we stored = \", roles)"
   ]
  },
  {
   "cell_type": "markdown",
   "metadata": {},
   "source": [
    "- We know that the string is serialized JSON because we are the one who put it there.\n",
    "\n",
    "\n",
    "- We can de-serialize and then load into a data frame."
   ]
  },
  {
   "cell_type": "code",
   "execution_count": 13,
   "metadata": {},
   "outputs": [],
   "source": [
    "roles = json.loads(roles)\n",
    "roles = pandas.DataFrame(roles, columns=[\"Name\", \"Roles\", \"Title\", \"Released\"])"
   ]
  },
  {
   "cell_type": "code",
   "execution_count": 14,
   "metadata": {},
   "outputs": [
    {
     "data": {
      "text/html": [
       "<div>\n",
       "<style scoped>\n",
       "    .dataframe tbody tr th:only-of-type {\n",
       "        vertical-align: middle;\n",
       "    }\n",
       "\n",
       "    .dataframe tbody tr th {\n",
       "        vertical-align: top;\n",
       "    }\n",
       "\n",
       "    .dataframe thead th {\n",
       "        text-align: right;\n",
       "    }\n",
       "</style>\n",
       "<table border=\"1\" class=\"dataframe\">\n",
       "  <thead>\n",
       "    <tr style=\"text-align: right;\">\n",
       "      <th></th>\n",
       "      <th>Name</th>\n",
       "      <th>Roles</th>\n",
       "      <th>Title</th>\n",
       "      <th>Released</th>\n",
       "    </tr>\n",
       "  </thead>\n",
       "  <tbody>\n",
       "    <tr>\n",
       "      <th>0</th>\n",
       "      <td>Tom Hanks</td>\n",
       "      <td>[Jimmy Dugan]</td>\n",
       "      <td>A League of Their Own</td>\n",
       "      <td>1992</td>\n",
       "    </tr>\n",
       "    <tr>\n",
       "      <th>1</th>\n",
       "      <td>Tom Hanks</td>\n",
       "      <td>[Hero Boy, Father, Conductor, Hobo, Scrooge, S...</td>\n",
       "      <td>The Polar Express</td>\n",
       "      <td>2004</td>\n",
       "    </tr>\n",
       "    <tr>\n",
       "      <th>2</th>\n",
       "      <td>Tom Hanks</td>\n",
       "      <td>[Jim Lovell]</td>\n",
       "      <td>Apollo 13</td>\n",
       "      <td>1995</td>\n",
       "    </tr>\n",
       "    <tr>\n",
       "      <th>3</th>\n",
       "      <td>Tom Hanks</td>\n",
       "      <td>[Sam Baldwin]</td>\n",
       "      <td>Sleepless in Seattle</td>\n",
       "      <td>1993</td>\n",
       "    </tr>\n",
       "    <tr>\n",
       "      <th>4</th>\n",
       "      <td>Tom Hanks</td>\n",
       "      <td>[Zachry, Dr. Henry Goose, Isaac Sachs, Dermot ...</td>\n",
       "      <td>Cloud Atlas</td>\n",
       "      <td>2012</td>\n",
       "    </tr>\n",
       "    <tr>\n",
       "      <th>5</th>\n",
       "      <td>Tom Hanks</td>\n",
       "      <td>[Joe Fox]</td>\n",
       "      <td>You've Got Mail</td>\n",
       "      <td>1998</td>\n",
       "    </tr>\n",
       "    <tr>\n",
       "      <th>6</th>\n",
       "      <td>Tom Hanks</td>\n",
       "      <td>[Rep. Charlie Wilson]</td>\n",
       "      <td>Charlie Wilson's War</td>\n",
       "      <td>2007</td>\n",
       "    </tr>\n",
       "    <tr>\n",
       "      <th>7</th>\n",
       "      <td>Tom Hanks</td>\n",
       "      <td>[Chuck Noland]</td>\n",
       "      <td>Cast Away</td>\n",
       "      <td>2000</td>\n",
       "    </tr>\n",
       "    <tr>\n",
       "      <th>8</th>\n",
       "      <td>Tom Hanks</td>\n",
       "      <td>[Dr. Robert Langdon]</td>\n",
       "      <td>The Da Vinci Code</td>\n",
       "      <td>2006</td>\n",
       "    </tr>\n",
       "    <tr>\n",
       "      <th>9</th>\n",
       "      <td>Tom Hanks</td>\n",
       "      <td>[Paul Edgecomb]</td>\n",
       "      <td>The Green Mile</td>\n",
       "      <td>1999</td>\n",
       "    </tr>\n",
       "    <tr>\n",
       "      <th>10</th>\n",
       "      <td>Tom Hanks</td>\n",
       "      <td>[Mr. White]</td>\n",
       "      <td>That Thing You Do</td>\n",
       "      <td>1996</td>\n",
       "    </tr>\n",
       "    <tr>\n",
       "      <th>11</th>\n",
       "      <td>Tom Hanks</td>\n",
       "      <td>[Joe Banks]</td>\n",
       "      <td>Joe Versus the Volcano</td>\n",
       "      <td>1990</td>\n",
       "    </tr>\n",
       "  </tbody>\n",
       "</table>\n",
       "</div>"
      ],
      "text/plain": [
       "         Name                                              Roles  \\\n",
       "0   Tom Hanks                                      [Jimmy Dugan]   \n",
       "1   Tom Hanks  [Hero Boy, Father, Conductor, Hobo, Scrooge, S...   \n",
       "2   Tom Hanks                                       [Jim Lovell]   \n",
       "3   Tom Hanks                                      [Sam Baldwin]   \n",
       "4   Tom Hanks  [Zachry, Dr. Henry Goose, Isaac Sachs, Dermot ...   \n",
       "5   Tom Hanks                                          [Joe Fox]   \n",
       "6   Tom Hanks                              [Rep. Charlie Wilson]   \n",
       "7   Tom Hanks                                     [Chuck Noland]   \n",
       "8   Tom Hanks                               [Dr. Robert Langdon]   \n",
       "9   Tom Hanks                                    [Paul Edgecomb]   \n",
       "10  Tom Hanks                                        [Mr. White]   \n",
       "11  Tom Hanks                                        [Joe Banks]   \n",
       "\n",
       "                     Title  Released  \n",
       "0    A League of Their Own      1992  \n",
       "1        The Polar Express      2004  \n",
       "2                Apollo 13      1995  \n",
       "3     Sleepless in Seattle      1993  \n",
       "4              Cloud Atlas      2012  \n",
       "5          You've Got Mail      1998  \n",
       "6     Charlie Wilson's War      2007  \n",
       "7                Cast Away      2000  \n",
       "8        The Da Vinci Code      2006  \n",
       "9           The Green Mile      1999  \n",
       "10       That Thing You Do      1996  \n",
       "11  Joe Versus the Volcano      1990  "
      ]
     },
     "execution_count": 14,
     "metadata": {},
     "output_type": "execute_result"
    }
   ],
   "source": [
    "roles"
   ]
  },
  {
   "cell_type": "markdown",
   "metadata": {},
   "source": [
    "# HW4 $-$ Part 1: Neo4j"
   ]
  },
  {
   "cell_type": "markdown",
   "metadata": {},
   "source": [
    "See documentation for questions: https://neo4j-rest-client.readthedocs.io/en/latest/info.html"
   ]
  },
  {
   "cell_type": "markdown",
   "metadata": {},
   "source": [
    "## Creating Nodes\n",
    "\n",
    "- The following people are both ```Person``` and ```Fan.``` Please create nodes for these people.\n",
    "    - George Washington\n",
    "    - Thomas Jefferson\n",
    "    - James Madison\n",
    "    - Abraham Lincoln\n",
    "    - John F. Kennedy\n",
    "    "
   ]
  },
  {
   "cell_type": "code",
   "execution_count": 15,
   "metadata": {},
   "outputs": [],
   "source": [
    "name = [\n",
    "    \"George Washington\",\n",
    "    \"John Adams\",\n",
    "    \"Thomas Jefferson\",\n",
    "    \"James Madison\",\n",
    "    \"James Monroe\",\n",
    "    \"Ted Williams\"\n",
    "]\n",
    "    \n",
    "# Your create code goes here.\n",
    "q =  \"\"\"CREATE (n:Person:Fan { name:'%s'})\"\"\"\n",
    "for r in name:\n",
    "     result = gdb.query(q%r)"
   ]
  },
  {
   "cell_type": "code",
   "execution_count": 16,
   "metadata": {},
   "outputs": [],
   "source": [
    "fan_q = \"match (f:Fan) return f\"\n",
    "fans = []\n",
    "fan_res = gdb.query(fan_q)\n",
    "\n",
    "for f in fan_res:\n",
    "    t = get_stuff(f[0])\n",
    "    t = [t['id'], t['labels'], t['properties']['name']]\n",
    "    fans.append(t)\n",
    "    \n",
    "fan_df = pandas.DataFrame(fans, columns=['Id', 'Labels', 'Name'])"
   ]
  },
  {
   "cell_type": "code",
   "execution_count": 17,
   "metadata": {},
   "outputs": [
    {
     "data": {
      "text/html": [
       "<div>\n",
       "<style scoped>\n",
       "    .dataframe tbody tr th:only-of-type {\n",
       "        vertical-align: middle;\n",
       "    }\n",
       "\n",
       "    .dataframe tbody tr th {\n",
       "        vertical-align: top;\n",
       "    }\n",
       "\n",
       "    .dataframe thead th {\n",
       "        text-align: right;\n",
       "    }\n",
       "</style>\n",
       "<table border=\"1\" class=\"dataframe\">\n",
       "  <thead>\n",
       "    <tr style=\"text-align: right;\">\n",
       "      <th></th>\n",
       "      <th>Id</th>\n",
       "      <th>Labels</th>\n",
       "      <th>Name</th>\n",
       "    </tr>\n",
       "  </thead>\n",
       "  <tbody>\n",
       "    <tr>\n",
       "      <th>0</th>\n",
       "      <td>128</td>\n",
       "      <td>[Person, Fan]</td>\n",
       "      <td>James Monroe</td>\n",
       "    </tr>\n",
       "    <tr>\n",
       "      <th>1</th>\n",
       "      <td>247</td>\n",
       "      <td>[Person, Fan]</td>\n",
       "      <td>Ted Williams</td>\n",
       "    </tr>\n",
       "    <tr>\n",
       "      <th>2</th>\n",
       "      <td>264</td>\n",
       "      <td>[Person, Fan]</td>\n",
       "      <td>Thomas Jefferson</td>\n",
       "    </tr>\n",
       "    <tr>\n",
       "      <th>3</th>\n",
       "      <td>291</td>\n",
       "      <td>[Person, Fan]</td>\n",
       "      <td>George Washington</td>\n",
       "    </tr>\n",
       "    <tr>\n",
       "      <th>4</th>\n",
       "      <td>292</td>\n",
       "      <td>[Person, Fan]</td>\n",
       "      <td>James Madison</td>\n",
       "    </tr>\n",
       "    <tr>\n",
       "      <th>5</th>\n",
       "      <td>369</td>\n",
       "      <td>[Person, Fan]</td>\n",
       "      <td>John Adams</td>\n",
       "    </tr>\n",
       "  </tbody>\n",
       "</table>\n",
       "</div>"
      ],
      "text/plain": [
       "    Id         Labels               Name\n",
       "0  128  [Person, Fan]       James Monroe\n",
       "1  247  [Person, Fan]       Ted Williams\n",
       "2  264  [Person, Fan]   Thomas Jefferson\n",
       "3  291  [Person, Fan]  George Washington\n",
       "4  292  [Person, Fan]      James Madison\n",
       "5  369  [Person, Fan]         John Adams"
      ]
     },
     "execution_count": 17,
     "metadata": {},
     "output_type": "execute_result"
    }
   ],
   "source": [
    "fan_df"
   ]
  },
  {
   "cell_type": "markdown",
   "metadata": {},
   "source": [
    "- After creation, run the following code. You should get the sample answer."
   ]
  },
  {
   "cell_type": "markdown",
   "metadata": {},
   "source": [
    "## Creating Relationships\n",
    "\n",
    "- Create ```Follows``` relationships:\n",
    "    - John Adams ```Follows``` George Washing\n",
    "    - Thomas Jefferson ```Follows``` John Adams\n",
    "    - James Madison ```Follows``` John Adams\n",
    "    - James Monroe ```Follows``` James Madison\n",
    "    - EVERYONE ```Follows``` Ted Williams"
   ]
  },
  {
   "cell_type": "code",
   "execution_count": 18,
   "metadata": {},
   "outputs": [],
   "source": [
    "# Your create code goes here.\n",
    "# except Ted Williams\n",
    "name2 = [\n",
    "    \"George Washington\",\n",
    "    \"John Adams\",\n",
    "    \"Thomas Jefferson\",\n",
    "    \"James Madison\",\n",
    "    \"James Monroe\"\n",
    "]\n",
    "    \n",
    "# Your create code goes here.\n",
    "query_list = []\n",
    "q1 =  \"\"\"MATCH (s:Fan {name:\"John Adams\"}),(p:Fan {name:\"George Washington\"}) \n",
    "        CREATE (s) -[:FOLLOWS]->(p)\"\"\"\n",
    "q2 =  \"\"\"MATCH (s:Fan {name:\"Thomas Jefferson\"}),(p:Fan {name:\"John Adams\"}) \n",
    "        CREATE (s) -[:FOLLOWS]->(p)\"\"\"\n",
    "q3 =  \"\"\"MATCH (s:Fan {name:\"James Madison\"}),(p:Fan {name:\"Thomas Jefferson\"}) \n",
    "        CREATE (s) -[:FOLLOWS]->(p)\"\"\"\n",
    "q4 =  \"\"\"MATCH (s:Fan {name:\"James Monroe\"}),(p:Fan {name:\"James Madison\"}) \n",
    "        CREATE (s) -[:FOLLOWS]->(p)\"\"\"\n",
    "q5 =  \"\"\"MATCH (s:Fan {name:\"%s\"}),(p:Fan {name:\"Ted Williams\"}) \n",
    "        CREATE (s) -[:FOLLOWS]->(p)\"\"\"\n",
    "\n",
    "result = gdb.query(q1)\n",
    "result = gdb.query(q2)\n",
    "result = gdb.query(q3)\n",
    "result = gdb.query(q4)\n",
    "for i in name2:\n",
    "    result = gdb.query(q5%i)"
   ]
  },
  {
   "cell_type": "markdown",
   "metadata": {},
   "source": [
    "- After running your code, returning all of the ```Fans``` in the browser should look like:\n",
    "\n",
    "<img src=\"./fans.png\">"
   ]
  },
  {
   "cell_type": "markdown",
   "metadata": {},
   "source": [
    "- You can also run the following test to check your answer:"
   ]
  },
  {
   "cell_type": "code",
   "execution_count": 19,
   "metadata": {},
   "outputs": [
    {
     "data": {
      "text/html": [
       "<div>\n",
       "<style scoped>\n",
       "    .dataframe tbody tr th:only-of-type {\n",
       "        vertical-align: middle;\n",
       "    }\n",
       "\n",
       "    .dataframe tbody tr th {\n",
       "        vertical-align: top;\n",
       "    }\n",
       "\n",
       "    .dataframe thead th {\n",
       "        text-align: right;\n",
       "    }\n",
       "</style>\n",
       "<table border=\"1\" class=\"dataframe\">\n",
       "  <thead>\n",
       "    <tr style=\"text-align: right;\">\n",
       "      <th></th>\n",
       "      <th>Follower</th>\n",
       "      <th>Followee</th>\n",
       "    </tr>\n",
       "  </thead>\n",
       "  <tbody>\n",
       "    <tr>\n",
       "      <th>0</th>\n",
       "      <td>James Monroe</td>\n",
       "      <td>Ted Williams</td>\n",
       "    </tr>\n",
       "    <tr>\n",
       "      <th>1</th>\n",
       "      <td>James Monroe</td>\n",
       "      <td>James Madison</td>\n",
       "    </tr>\n",
       "    <tr>\n",
       "      <th>2</th>\n",
       "      <td>Thomas Jefferson</td>\n",
       "      <td>Ted Williams</td>\n",
       "    </tr>\n",
       "    <tr>\n",
       "      <th>3</th>\n",
       "      <td>Thomas Jefferson</td>\n",
       "      <td>John Adams</td>\n",
       "    </tr>\n",
       "    <tr>\n",
       "      <th>4</th>\n",
       "      <td>George Washington</td>\n",
       "      <td>Ted Williams</td>\n",
       "    </tr>\n",
       "    <tr>\n",
       "      <th>5</th>\n",
       "      <td>James Madison</td>\n",
       "      <td>Ted Williams</td>\n",
       "    </tr>\n",
       "    <tr>\n",
       "      <th>6</th>\n",
       "      <td>James Madison</td>\n",
       "      <td>Thomas Jefferson</td>\n",
       "    </tr>\n",
       "    <tr>\n",
       "      <th>7</th>\n",
       "      <td>John Adams</td>\n",
       "      <td>Ted Williams</td>\n",
       "    </tr>\n",
       "    <tr>\n",
       "      <th>8</th>\n",
       "      <td>John Adams</td>\n",
       "      <td>George Washington</td>\n",
       "    </tr>\n",
       "  </tbody>\n",
       "</table>\n",
       "</div>"
      ],
      "text/plain": [
       "            Follower           Followee\n",
       "0       James Monroe       Ted Williams\n",
       "1       James Monroe      James Madison\n",
       "2   Thomas Jefferson       Ted Williams\n",
       "3   Thomas Jefferson         John Adams\n",
       "4  George Washington       Ted Williams\n",
       "5      James Madison       Ted Williams\n",
       "6      James Madison   Thomas Jefferson\n",
       "7         John Adams       Ted Williams\n",
       "8         John Adams  George Washington"
      ]
     },
     "execution_count": 19,
     "metadata": {},
     "output_type": "execute_result"
    }
   ],
   "source": [
    "q = \"match (n:Fan)-[r:FOLLOWS]->(m) return n.name, m.name\"\n",
    "d = gdb.query(q)\n",
    "df = pandas.DataFrame(d, columns=['Follower', 'Followee'])\n",
    "df"
   ]
  },
  {
   "cell_type": "markdown",
   "metadata": {},
   "source": [
    "- Create some ```Likes``` relationships:\n",
    "    - Ted Williams ```Likes``` the ```Person``` Tom Hanks\n",
    "    - James Monroe ```Likes``` the ```Person``` Robert Longo"
   ]
  },
  {
   "cell_type": "code",
   "execution_count": 20,
   "metadata": {},
   "outputs": [],
   "source": [
    "# Your create code goes here.\n",
    "q =  \"\"\"MATCH (s:Fan {name:\"Ted Williams\"}),(p:Person {name:\"Tom Hanks\"}) \n",
    "        CREATE (s) -[:LIKES]->(p)\"\"\"\n",
    "\n",
    "q1 =  \"\"\"MATCH (s:Fan {name:\"James Monroe\"}),(p:Person {name:\"Robert Longo\"}) \n",
    "        CREATE (s) -[:LIKES]->(p)\"\"\"\n",
    "result = gdb.query(q)\n",
    "result = gdb.query(q1)"
   ]
  },
  {
   "cell_type": "markdown",
   "metadata": {},
   "source": [
    "- After creating the relationships, examing ```Likes``` in the browser should return:\n",
    "\n",
    "<img src=\"./likes.png\">\n",
    "\n"
   ]
  },
  {
   "cell_type": "markdown",
   "metadata": {},
   "source": [
    "- The following code will test your result:"
   ]
  },
  {
   "cell_type": "code",
   "execution_count": 21,
   "metadata": {},
   "outputs": [
    {
     "data": {
      "text/html": [
       "<div>\n",
       "<style scoped>\n",
       "    .dataframe tbody tr th:only-of-type {\n",
       "        vertical-align: middle;\n",
       "    }\n",
       "\n",
       "    .dataframe tbody tr th {\n",
       "        vertical-align: top;\n",
       "    }\n",
       "\n",
       "    .dataframe thead th {\n",
       "        text-align: right;\n",
       "    }\n",
       "</style>\n",
       "<table border=\"1\" class=\"dataframe\">\n",
       "  <thead>\n",
       "    <tr style=\"text-align: right;\">\n",
       "      <th></th>\n",
       "      <th>Liker</th>\n",
       "      <th>Likee</th>\n",
       "    </tr>\n",
       "  </thead>\n",
       "  <tbody>\n",
       "    <tr>\n",
       "      <th>0</th>\n",
       "      <td>Ted Williams</td>\n",
       "      <td>Tom Hanks</td>\n",
       "    </tr>\n",
       "    <tr>\n",
       "      <th>1</th>\n",
       "      <td>James Monroe</td>\n",
       "      <td>Robert Longo</td>\n",
       "    </tr>\n",
       "  </tbody>\n",
       "</table>\n",
       "</div>"
      ],
      "text/plain": [
       "          Liker         Likee\n",
       "0  Ted Williams     Tom Hanks\n",
       "1  James Monroe  Robert Longo"
      ]
     },
     "execution_count": 21,
     "metadata": {},
     "output_type": "execute_result"
    }
   ],
   "source": [
    "q = \"match (n)-[:LIKES]->(m) return n.name, m.name\"\n",
    "res = gdb.query(q)\n",
    "df_likes = pandas.DataFrame(res, columns=['Liker', 'Likee'])\n",
    "df_likes"
   ]
  },
  {
   "cell_type": "markdown",
   "metadata": {},
   "source": [
    "## Spooky Query\n",
    "\n",
    "- Find a shortest non-directed path from ```Person``` Robert Longo to ```Person``` Kevin Bacon. Running the query in the Neo4j browser will return:\n",
    "\n",
    "\n",
    "<hr style=\"height:2px\">\n",
    "Write your query in here."
   ]
  },
  {
   "cell_type": "markdown",
   "metadata": {},
   "source": [
    "```\n",
    "MATCH p=shortestPath(\n",
    "  (s:Person {name:\"Robert Longo\"})-[*]-(t:Person {name:\"Kevin Bacon\"})\n",
    ")\n",
    "RETURN p\n",
    "```"
   ]
  },
  {
   "cell_type": "markdown",
   "metadata": {},
   "source": [
    "<hr style=\"height:2px\">\n",
    "\n",
    "- Running your query in Neo4j Browser will produce:\n",
    "\n",
    "<img src=\"./path.png\">\n",
    "\n",
    "\n",
    "- Submit your screen shot showing query in your submission.\n",
    "\n",
    "<img src=\"./sx2261_path.png\">"
   ]
  },
  {
   "cell_type": "markdown",
   "metadata": {},
   "source": [
    "# Redis\n",
    "\n",
    "## Introduction\n",
    "\n",
    "- One if, if not the most common, uses of Redis is for result caching.\n",
    "\n",
    "\n",
    "- The following figure provides an overview of the concept.\n",
    "\n",
    "| <img src=\"./redis_cache.png\"> |\n",
    "| :---: |\n",
    "| [Redis Caching](https://www.sohamkamani.com/blog/2016/10/14/make-your-node-server-faster-with-redis-cache/) |\n",
    "\n",
    "\n",
    "- You can find more details on the concept [here](https://www.sohamkamani.com/blog/2016/10/14/make-your-node-server-faster-with-redis-cache/)\n",
    "\n",
    "\n",
    "- The basic concept is that the server code implements logic similar to the pseudo-code\n",
    "\n",
    "```\n",
    "def server(query):\n",
    "\n",
    "    res = check_cache(query)\n",
    "    if res is not None:\n",
    "        return res\n",
    "        \n",
    "    db_res = db.query(query)\n",
    "    cache_add(query, db_res)\n",
    "    return db_res\n",
    "```\n",
    "\n",
    "- You are going to implement a simple version of the concept using Redis to cache in-front of Neo4j.\n"
   ]
  },
  {
   "cell_type": "markdown",
   "metadata": {},
   "source": [
    "- We have seen the recurring pattern for queries of the form:\n",
    "\n",
    "```\n",
    "{\n",
    "    \"table_name\": \"t_name\",\n",
    "    \"template\": {\n",
    "        \"p1\": \"v1\",\n",
    "        \"p2\": \"v1\",\n",
    "        ... ...\n",
    "    }\n",
    "}\n",
    "```\n",
    "\n",
    "- The concept represents simple queries in SQL, REST, ...\n",
    "\n",
    "\n",
    "- The code below shows that you can do something similar with Neo4j."
   ]
  },
  {
   "cell_type": "code",
   "execution_count": 22,
   "metadata": {},
   "outputs": [],
   "source": [
    "#This is a Neo4j Query, not a redis query\n",
    "def query_by_template(db, t_name, template):\n",
    "    \n",
    "    q = \"match (n:\" + t_name + \")  \"\n",
    "    \n",
    "    terms = []\n",
    "    for k,v in template.items():\n",
    "        if type(v) == str:\n",
    "            v = \"'\" + v + \"'\"\n",
    "        terms.append(\"n.\"+ k + \"=\" + str(v))\n",
    "        \n",
    "    if len(terms) > 0:\n",
    "        q += \"where \" + ' and '.join(terms)\n",
    "        \n",
    "    q += \" return n \"\n",
    "    \n",
    "    res = db.query(q)\n",
    "    \n",
    "    result = []\n",
    "    for r in res:\n",
    "        result.append(get_stuff(r[0]))\n",
    "    return result"
   ]
  },
  {
   "cell_type": "code",
   "execution_count": 23,
   "metadata": {},
   "outputs": [
    {
     "name": "stdout",
     "output_type": "stream",
     "text": [
      "[{'id': 121, 'labels': ['Movie'], 'properties': {'tagline': 'Speed has no limits', 'title': 'Speed Racer', 'released': 2008}}, {'id': 147, 'labels': ['Movie'], 'properties': {'tagline': '400 million people were waiting for the truth.', 'title': 'Frost/Nixon', 'released': 2008}}]\n"
     ]
    }
   ],
   "source": [
    "t_name = \"Movie\"\n",
    "template = {\"released\": 2008}\n",
    "res = query_by_template(gdb, t_name, template)\n",
    "#print(res)\n",
    "\n",
    "print(res)"
   ]
  },
  {
   "cell_type": "markdown",
   "metadata": {},
   "source": [
    "## Assignment\n",
    "\n",
    "- We have seen that Redis stores data in many forms, one of which is key and string value.\n",
    "\n",
    "\n",
    "- The following is a template for two functions that extend the example above to support caching in Redis"
   ]
  },
  {
   "cell_type": "code",
   "execution_count": 24,
   "metadata": {},
   "outputs": [],
   "source": [
    "'''\n",
    "see examples at the bottom for clarification on what constitutes a \n",
    "template and value.\n",
    "\n",
    "Check cache should return a result\n",
    "'''\n",
    "def cache_it(template, value):\n",
    "    res = rd.set(template, value)\n",
    "#Movie:{\"released\": 2008, \"title\": \"Frost/Nixon\"}\n",
    "def check_cache(template):\n",
    "    data = rd.get(template)\n",
    "    return data"
   ]
  },
  {
   "cell_type": "markdown",
   "metadata": {},
   "source": [
    "- And this is a simple example of extending the query function above to exploit caching."
   ]
  },
  {
   "cell_type": "code",
   "execution_count": 25,
   "metadata": {},
   "outputs": [],
   "source": [
    "import copy\n",
    "\n",
    "def query_by_template_cache(db, t_name, template):\n",
    "    \n",
    "    if template is not None:\n",
    "        tt = t_name + \":\" + json.dumps(template)\n",
    "    else:\n",
    "        tt = t_name\n",
    "        \n",
    "    r = check_cache(tt)\n",
    "    \n",
    "    if r is not None:\n",
    "        print(\"Cache HIT!\")\n",
    "        return json.loads(r)\n",
    "    else:\n",
    "        print(\"Cache MISS!\")\n",
    "    \n",
    "    q = \"match (n:\" + t_name + \")  \"\n",
    "    \n",
    "    terms = []\n",
    "    for k,v in template.items():\n",
    "        if type(v) == str:\n",
    "            v = \"'\" + v + \"'\"\n",
    "        terms.append(\"n.\"+ k + \"=\" + str(v))\n",
    "        \n",
    "    if len(terms) > 0:\n",
    "        q += \"where \" + ' and '.join(terms)\n",
    "        \n",
    "    q += \" return n \"\n",
    "    \n",
    "    res = db.query(q)\n",
    "    \n",
    "    result = []\n",
    "    for r in res:\n",
    "        result.append(get_stuff(r[0]))\n",
    "        \n",
    "    cache_it(tt, json.dumps(result))\n",
    "    \n",
    "    return result"
   ]
  },
  {
   "cell_type": "markdown",
   "metadata": {},
   "source": [
    "- Implement the functions ```check_cache``` and ```cache_hit.```\n",
    "\n",
    "\n",
    "- You can test your functions below."
   ]
  },
  {
   "cell_type": "code",
   "execution_count": 26,
   "metadata": {},
   "outputs": [
    {
     "name": "stdout",
     "output_type": "stream",
     "text": [
      "Cache MISS!\n",
      "[{'id': 147, 'labels': ['Movie'], 'properties': {'tagline': '400 million people were waiting for the truth.', 'title': 'Frost/Nixon', 'released': 2008}}]\n"
     ]
    }
   ],
   "source": [
    "t_name = \"Movie\"\n",
    "template = {\"released\": 2008, \"title\": \"Frost/Nixon\"}\n",
    "res = query_by_template_cache(gdb, t_name, template)\n",
    "print(res)"
   ]
  },
  {
   "cell_type": "code",
   "execution_count": 27,
   "metadata": {},
   "outputs": [
    {
     "name": "stdout",
     "output_type": "stream",
     "text": [
      "Cache HIT!\n",
      "[{'id': 147, 'labels': ['Movie'], 'properties': {'tagline': '400 million people were waiting for the truth.', 'title': 'Frost/Nixon', 'released': 2008}}]\n"
     ]
    }
   ],
   "source": [
    "t_name = \"Movie\"\n",
    "template = {\"released\": 2008, \"title\": \"Frost/Nixon\"}\n",
    "res = query_by_template_cache(gdb, t_name, template)\n",
    "print(res)"
   ]
  }
 ],
 "metadata": {
  "kernelspec": {
   "display_name": "Python 3",
   "language": "python",
   "name": "python3"
  },
  "language_info": {
   "codemirror_mode": {
    "name": "ipython",
    "version": 3
   },
   "file_extension": ".py",
   "mimetype": "text/x-python",
   "name": "python",
   "nbconvert_exporter": "python",
   "pygments_lexer": "ipython3",
   "version": "3.7.5"
  }
 },
 "nbformat": 4,
 "nbformat_minor": 2
}
